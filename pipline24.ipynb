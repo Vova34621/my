{
  "nbformat": 4,
  "nbformat_minor": 0,
  "metadata": {
    "colab": {
      "provenance": []
    },
    "kernelspec": {
      "name": "python3",
      "display_name": "Python 3"
    },
    "language_info": {
      "name": "python"
    }
  },
  "cells": [
    {
      "cell_type": "code",
      "execution_count": null,
      "metadata": {
        "colab": {
          "base_uri": "https://localhost:8080/"
        },
        "id": "_Xp08F5RLHHx",
        "outputId": "d19ff26e-2516-42c7-be9d-3f03cb6d8818"
      },
      "outputs": [
        {
          "output_type": "stream",
          "name": "stdout",
          "text": [
            "Сreate a pipline\n"
          ]
        }
      ],
      "source": [
        "print('Сreate a pipline')"
      ]
    },
    {
      "cell_type": "code",
      "source": [
        "print('first commit')"
      ],
      "metadata": {
        "id": "QRt5VG4jOqUC",
        "colab": {
          "base_uri": "https://localhost:8080/"
        },
        "outputId": "d88a9e4f-8e55-4c8a-b262-810f02a2db87"
      },
      "execution_count": 4,
      "outputs": [
        {
          "output_type": "stream",
          "name": "stdout",
          "text": [
            "first commit\n"
          ]
        }
      ]
    },
    {
      "cell_type": "code",
      "source": [
        "print('add funFunc')"
      ],
      "metadata": {
        "colab": {
          "base_uri": "https://localhost:8080/"
        },
        "id": "rju6anxddpem",
        "outputId": "c1283380-62a1-4358-af00-0c9323720f07"
      },
      "execution_count": 5,
      "outputs": [
        {
          "output_type": "stream",
          "name": "stdout",
          "text": [
            "add funFunc\n"
          ]
        }
      ]
    }
  ]
}